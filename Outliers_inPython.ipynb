{
  "nbformat": 4,
  "nbformat_minor": 0,
  "metadata": {
    "colab": {
      "private_outputs": true,
      "provenance": []
    },
    "kernelspec": {
      "name": "python3",
      "display_name": "Python 3"
    },
    "language_info": {
      "name": "python"
    }
  },
  "cells": [
    {
      "cell_type": "code",
      "execution_count": null,
      "metadata": {
        "id": "AzyMuTpjAfMS"
      },
      "outputs": [],
      "source": [
        "import pandas as pd\n",
        "import numpy as np "
      ]
    },
    {
      "cell_type": "code",
      "source": [
        "df  =pd.read_csv('/content/train.csv')"
      ],
      "metadata": {
        "id": "SHwZMIK1ArDm"
      },
      "execution_count": null,
      "outputs": []
    },
    {
      "cell_type": "code",
      "source": [
        "df.head(50)"
      ],
      "metadata": {
        "id": "UTKcKSl7A7_N"
      },
      "execution_count": null,
      "outputs": []
    },
    {
      "cell_type": "code",
      "source": [
        "df.isnull().sum()"
      ],
      "metadata": {
        "id": "sxBrekYcBOol"
      },
      "execution_count": null,
      "outputs": []
    },
    {
      "cell_type": "code",
      "source": [
        "df[['Fare']].value_counts()"
      ],
      "metadata": {
        "id": "AYnp3dXQBR0N"
      },
      "execution_count": null,
      "outputs": []
    },
    {
      "cell_type": "code",
      "source": [
        "#  now when we  wannt  to first handle and then  we have to  removce  the outliers im\n",
        "import seaborn as sns"
      ],
      "metadata": {
        "id": "goqQtHqbBb99"
      },
      "execution_count": null,
      "outputs": []
    },
    {
      "cell_type": "code",
      "source": [
        "sns.distplot(df['Age'])"
      ],
      "metadata": {
        "id": "ARt8e5RRB4Ts"
      },
      "execution_count": null,
      "outputs": []
    },
    {
      "cell_type": "code",
      "source": [
        "IQR =df.Age.quantile(0.75)-df.Age.quantile(0.25)\n",
        "IQR"
      ],
      "metadata": {
        "id": "gt0as3T0CPl1"
      },
      "execution_count": null,
      "outputs": []
    },
    {
      "cell_type": "code",
      "source": [
        "lower_bridge=df['Age'].quantile(0.25)-(IQR*1.5)\n",
        "Upper_bridge=df['Age'].quantile(0.75)+(IQR*1.5)\n",
        "print(lower_bridge) \n",
        "print(Upper_bridge)    # this is an  limit for the case \n"
      ],
      "metadata": {
        "id": "W8ksem_YG6nH"
      },
      "execution_count": null,
      "outputs": []
    },
    {
      "cell_type": "code",
      "source": [
        "#  in the  case  we if we want extremen  outliers we  will  do this \n",
        "lower_bridge=df['Age'].quantile(0.25)-(IQR*3)\n",
        "upper_bridge=df['Age'].quantile(0.75)+(IQR*3)\n",
        "print(lower_bridge)\n",
        "print(upper_bridge)"
      ],
      "metadata": {
        "id": "YjAHA7kiH3wF"
      },
      "execution_count": null,
      "outputs": []
    },
    {
      "cell_type": "code",
      "source": [
        "# now we  got our extrmene  value  to  be 64 in  terms of the age so  we will  do it by the age \n",
        "#  we  will replace  it by age bruh\n"
      ],
      "metadata": {
        "id": "-6U6OTdJIPZA"
      },
      "execution_count": null,
      "outputs": []
    },
    {
      "cell_type": "markdown",
      "source": [
        "when the  data set is  not  normallty distributed it will be considered as not skewned "
      ],
      "metadata": {
        "id": "yBPdn3dRIcj2"
      }
    },
    {
      "cell_type": "code",
      "source": [
        "figure =df.Fare.hist(bins=50)\n",
        "figure.set_title('Fare')\n",
        "figure.set_xlabel('Fare')\n",
        "figure.set_ylabel('no of passengers')"
      ],
      "metadata": {
        "id": "1zmmK_WuL1v7"
      },
      "execution_count": null,
      "outputs": []
    },
    {
      "cell_type": "code",
      "source": [
        "figure =df.boxplot(column='Fare')  # it is  left  skewed data set "
      ],
      "metadata": {
        "id": "P09Ah5PqMq3t"
      },
      "execution_count": null,
      "outputs": []
    },
    {
      "cell_type": "code",
      "source": [
        "df['Fare'].describe()   # we can  see the  diiffernce between  this "
      ],
      "metadata": {
        "id": "EveR8BLzNHsb"
      },
      "execution_count": null,
      "outputs": []
    },
    {
      "cell_type": "code",
      "source": [
        "#  when we basicallly take  the  extrmene  case in our data \n",
        "\n",
        "IQR1=df['Age'].quantile(0.75)-df['Age'].quantile(0.25)\n",
        "IQR1"
      ],
      "metadata": {
        "id": "jhmVptPVNpel"
      },
      "execution_count": null,
      "outputs": []
    },
    {
      "cell_type": "code",
      "source": [
        "lb=df['Fare'].quantile(0.25)-(IQR1*3)\n",
        "ub=df['Fare'].quantile(0.75)+(IQR1*3)\n",
        "\n",
        "print(lb)\n",
        "print(ub)"
      ],
      "metadata": {
        "id": "7x9CQW-ZN6aa"
      },
      "execution_count": null,
      "outputs": []
    },
    {
      "cell_type": "code",
      "source": [
        "data =df.copy()"
      ],
      "metadata": {
        "id": "_Y4fdqkQOxk1"
      },
      "execution_count": null,
      "outputs": []
    },
    {
      "cell_type": "code",
      "source": [
        "data.loc[data['Age']>73,'Age']=73;\n",
        "data.loc[data['Age']>73,'Age']=73;"
      ],
      "metadata": {
        "id": "vcEw6f5XPJ3S"
      },
      "execution_count": null,
      "outputs": []
    },
    {
      "cell_type": "code",
      "source": [],
      "metadata": {
        "id": "sea368J3P4BK"
      },
      "execution_count": null,
      "outputs": []
    },
    {
      "cell_type": "code",
      "source": [
        "data.loc[data['Fare']>=100,'Fare']=100"
      ],
      "metadata": {
        "id": "I0gy2wQ3PkHS"
      },
      "execution_count": null,
      "outputs": []
    },
    {
      "cell_type": "code",
      "source": [
        "from  sklearn.model_selection  import  train_test_split\n",
        "X_train ,X_test ,y_train ,y_test =train_test_split(df[['Age','Fare']].fillna(0),data['Survived'],test_size=0.3)"
      ],
      "metadata": {
        "id": "YnPmm-bJP44L"
      },
      "execution_count": null,
      "outputs": []
    },
    {
      "cell_type": "code",
      "source": [
        "from sklearn.linear_model  import  LogisticRegression\n",
        "classs=LogisticRegression()\n",
        "classs.fit(X_train,y_train)"
      ],
      "metadata": {
        "id": "L0Ul9M8TRGK_"
      },
      "execution_count": null,
      "outputs": []
    },
    {
      "cell_type": "markdown",
      "source": [
        "now we are applying the ml algoruthm\n"
      ],
      "metadata": {
        "id": "CQ1rd1oNOx80"
      }
    }
  ]
}